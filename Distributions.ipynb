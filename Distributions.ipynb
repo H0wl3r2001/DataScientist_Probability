{
 "cells": [
  {
   "cell_type": "markdown",
   "metadata": {},
   "source": [
    "# Probability Distributions in Data Science\n",
    "\n",
    "Probability distributions describe how values of a random variable are distributed. Understanding distributions is essential for statistical modeling, hypothesis testing, and machine learning.\n",
    "\n",
    "This notebook will cover the essentials of the most common distributions possible."
   ]
  },
  {
   "cell_type": "markdown",
   "metadata": {},
   "source": [
    "## Index"
   ]
  },
  {
   "cell_type": "markdown",
   "metadata": {},
   "source": [
    "## 1. Discrete Distributions\n",
    "\n",
    "Discrete distributions describe variables that take on a finite or countable number of values.\n",
    "\n",
    "### 1.1 Bernoulli Distribution\n",
    "A Bernoulli distribution models a single experiment with two possible outcomes: success (1) or failure (0).\n",
    "\n",
    "**Applications:**\n",
    "- Binary classification problems.\n",
    "- Coin flips.\n",
    "- Success/failure experiments."
   ]
  },
  {
   "cell_type": "code",
   "execution_count": null,
   "metadata": {},
   "outputs": [],
   "source": []
  },
  {
   "cell_type": "markdown",
   "metadata": {},
   "source": [
    "### 1.2 Binomial Distribution\n",
    "Models the number of successes in `n` independent Bernoulli trials.\n",
    "\n",
    "**Applications:**\n",
    "- A/B testing in marketing.\n",
    "- Number of defective items in a batch.\n",
    "- Polling statistics."
   ]
  },
  {
   "cell_type": "code",
   "execution_count": null,
   "metadata": {},
   "outputs": [],
   "source": []
  },
  {
   "cell_type": "markdown",
   "metadata": {},
   "source": [
    "### 1.3 Poisson Distribution\n",
    "Models the number of events occurring in a fixed interval of time or space.\n",
    "\n",
    "**Applications:**\n",
    "- Call center queue modeling.\n",
    "- Website traffic predictions.\n",
    "- Number of earthquakes in a year."
   ]
  },
  {
   "cell_type": "code",
   "execution_count": null,
   "metadata": {},
   "outputs": [],
   "source": []
  },
  {
   "cell_type": "markdown",
   "metadata": {},
   "source": [
    "## 2. Continuous Distributions\n",
    "Continuous distributions describe variables that can take on an infinite number of values within a range.\n",
    "\n",
    "### 2.1 Uniform Distribution\n",
    "All values in an interval have equal probability.\n",
    "\n",
    "**Applications:**\n",
    "- Random number generation.\n",
    "- Monte Carlo simulations.\n"
   ]
  },
  {
   "cell_type": "code",
   "execution_count": null,
   "metadata": {},
   "outputs": [],
   "source": []
  },
  {
   "cell_type": "markdown",
   "metadata": {},
   "source": [
    "### 2.2 Normal (Gaussian) Distribution\n",
    "The most common distribution, known as the bell curve.\n",
    "\n",
    "**Applications:**\n",
    "- Heights and weights of individuals.\n",
    "- Stock price fluctuations.\n",
    "- Measurement errors in experiments.\n"
   ]
  },
  {
   "cell_type": "code",
   "execution_count": null,
   "metadata": {},
   "outputs": [],
   "source": []
  },
  {
   "cell_type": "markdown",
   "metadata": {},
   "source": [
    "### 2.3 Exponential Distribution\n",
    "Models the time between events in a Poisson process.\n",
    "\n",
    "**Applications:**\n",
    "- Time until failure of machinery.\n",
    "- Customer arrival times in service systems."
   ]
  },
  {
   "cell_type": "code",
   "execution_count": null,
   "metadata": {},
   "outputs": [],
   "source": []
  },
  {
   "cell_type": "markdown",
   "metadata": {},
   "source": [
    "## 3. Other Notable Distributions\n",
    "\n",
    "### 3.1 Gamma Distribution\n",
    "The Gamma distribution is a generalization of the Exponential distribution, often used for waiting times when multiple independent events occur.\n",
    "\n",
    "**Properties:**\n",
    "\n",
    "- PDF: $f(x) = \\frac{\\lambda^k x^{k-1} e^{-\\lambda x}}{(k-1)!}, \\quad x > 0$\n",
    "- Mean: $\\mu = k/\\lambda$\n",
    "- Variance: $\\sigma^2 = k/\\lambda^2$\n",
    "\n",
    "**Applications:**\n",
    "- Modeling insurance claims.\n",
    "- Reliability analysis of systems.\n",
    "- Queuing theory."
   ]
  },
  {
   "cell_type": "code",
   "execution_count": null,
   "metadata": {},
   "outputs": [],
   "source": []
  },
  {
   "cell_type": "markdown",
   "metadata": {},
   "source": [
    "### 3.2 Beta Distribution\n",
    "The Beta distribution is a flexible distribution used in Bayesian statistics and probability modeling.\n",
    "\n",
    "**Properties**\n",
    "- PDF: $f(x) = \\frac{x^{\\alpha-1} (1-x)^{\\beta-1}}{B(\\alpha, \\beta)}, \\quad 0 \\leq x \\leq 1$\n",
    "- Mean: $\\mu = \\frac{\\alpha}{\\alpha + \\beta}$\n",
    "- Variance: $\\sigma^2 = \\frac{\\alpha \\beta}{(\\alpha + \\beta)^2 (\\alpha + \\beta + 1)}$\n",
    "\n",
    "**Applications:**\n",
    "- Bayesian statistics.\n",
    "- Proportion and probability estimations.\n",
    "- Machine learning hyperparameter tuning.\n"
   ]
  },
  {
   "cell_type": "code",
   "execution_count": null,
   "metadata": {},
   "outputs": [],
   "source": []
  },
  {
   "cell_type": "markdown",
   "metadata": {},
   "source": [
    "### 3.3 Cauchy Distribution\n",
    "The Cauchy distribution is a heavy-tailed distribution with undefined mean and variance.\n",
    "\n",
    "**Properties:**\n",
    "- PDF: $f(x) = \\frac{1}{\\pi \\gamma \\left[ 1 + \\left( \\frac{x - x_0}{\\gamma} \\right)^2 \\right] }, \\quad -\\infty < x < \\infty$\n",
    "- No defined mean or variance\n",
    "\n",
    "\n",
    "**Applications:**\n",
    "- Outlier detection.\n",
    "- Physics (resonance behavior).\n",
    "- Financial modeling with extreme values."
   ]
  },
  {
   "cell_type": "code",
   "execution_count": null,
   "metadata": {},
   "outputs": [],
   "source": []
  },
  {
   "cell_type": "markdown",
   "metadata": {},
   "source": [
    "### 3.4 Chi-Square Distribution\n",
    "The Chi-Square distribution is used extensively in hypothesis testing and inferential statistics.\n",
    "\n",
    "**Properties**\n",
    "- PDF: $f(x) = \\frac{x^{(k/2)-1} e^{-x/2}}{2^{k/2} \\Gamma(k/2)}, \\quad x > 0$\n",
    "- Mean: $\\mu = k$\n",
    "- Variance: $\\sigma^2 = 2k$\n",
    "\n",
    "**Applications:**\n",
    "- Goodness-of-fit tests.\n",
    "- Estimation of population variance.\n",
    "- Independence tests in categorical data."
   ]
  },
  {
   "cell_type": "code",
   "execution_count": null,
   "metadata": {},
   "outputs": [],
   "source": []
  },
  {
   "cell_type": "markdown",
   "metadata": {},
   "source": [
    "## 4. Where to Find Each Type of Distribution\n",
    "\n",
    "| Distribution Type  | Common Applications |\n",
    "|--------------------|----------------------------------|\n",
    "| **Bernoulli**      | Coin flips, success/failure trials |\n",
    "| **Binomial**       | A/B testing, quality control |\n",
    "| **Poisson**        | Event counts over time, call arrivals |\n",
    "| **Uniform**        | Random number generation, lotteries |\n",
    "| **Normal**         | Heights, stock prices, exam scores |\n",
    "| **Exponential**    | Machine failure times, service queues |\n",
    "| **Gamma**          | Insurance claims, waiting times |\n",
    "| **Beta**           | Bayesian statistics, probability estimations |\n",
    "| **Cauchy**         | Outlier modeling, physical resonances |\n",
    "| **Chi-Square**     | Hypothesis testing, independence tests |\n"
   ]
  }
 ],
 "metadata": {
  "kernelspec": {
   "display_name": "comb_ml",
   "language": "python",
   "name": "python3"
  },
  "language_info": {
   "name": "python",
   "version": "3.11.11"
  }
 },
 "nbformat": 4,
 "nbformat_minor": 2
}
