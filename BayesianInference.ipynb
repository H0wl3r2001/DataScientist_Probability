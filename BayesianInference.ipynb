{
 "cells": [
  {
   "cell_type": "markdown",
   "metadata": {},
   "source": [
    "# Bayesian Inference\n",
    "\n",
    "Bayesian Inference is a method of statistical inference in which Bayes' theorem is used to update the probability\n",
    "for a hypothesis as more evidence or information becomes available. It plays a crucial role in Data Science,\n",
    "especially in areas such as machine learning, spam filtering, medical diagnostics, and A/B testing."
   ]
  },
  {
   "cell_type": "markdown",
   "metadata": {},
   "source": [
    "## Index"
   ]
  },
  {
   "cell_type": "markdown",
   "metadata": {},
   "source": [
    "## Sets and Events\n",
    "\n",
    "A **set** is a collection of elements. In probability theory, an **event** is a subset of a sample space."
   ]
  },
  {
   "cell_type": "code",
   "execution_count": null,
   "metadata": {},
   "outputs": [],
   "source": [
    "# Example: A sample space of rolling a die\n",
    "sample_space = {1, 2, 3, 4, 5, 6}\n",
    "event_A = {2, 4, 6}  # Even numbers"
   ]
  },
  {
   "cell_type": "markdown",
   "metadata": {},
   "source": [
    "Sets can interact in different ways: they may overlap partially, completely, or be mutually exclusive."
   ]
  },
  {
   "cell_type": "code",
   "execution_count": 1,
   "metadata": {},
   "outputs": [
    {
     "name": "stdout",
     "output_type": "stream",
     "text": [
      "{3, 4}\n"
     ]
    }
   ],
   "source": [
    "# Example: Visualization of set intersection\n",
    "A = {1, 2, 3, 4}\n",
    "B = {3, 4, 5, 6}\n",
    "intersection = A & B  # {3, 4}\n",
    "print(intersection)"
   ]
  },
  {
   "cell_type": "markdown",
   "metadata": {},
   "source": [
    "The **intersection** of two sets consists of elements that are in both sets.\n",
    "The **union** of two sets consists of elements that are in at least one of the sets.\n"
   ]
  },
  {
   "cell_type": "code",
   "execution_count": 2,
   "metadata": {},
   "outputs": [
    {
     "name": "stdout",
     "output_type": "stream",
     "text": [
      "{1, 2, 3, 4, 5, 6}\n"
     ]
    }
   ],
   "source": [
    "union = A | B  # {1, 2, 3, 4, 5, 6}\n",
    "print(union)"
   ]
  },
  {
   "cell_type": "markdown",
   "metadata": {},
   "source": [
    "Two sets are **mutually exclusive** if they have no elements in common."
   ]
  },
  {
   "cell_type": "code",
   "execution_count": 3,
   "metadata": {},
   "outputs": [
    {
     "name": "stdout",
     "output_type": "stream",
     "text": [
      "True\n"
     ]
    }
   ],
   "source": [
    "C = {7, 8, 9}\n",
    "print(A & C == set())  # True, because A and C have no elements in common and the result is an empty set"
   ]
  },
  {
   "cell_type": "markdown",
   "metadata": {},
   "source": [
    "Two events A and B are **independent** if the occurrence of one does not affect the probability of the other.\n",
    "Otherwise, they are **dependent**.\n"
   ]
  },
  {
   "cell_type": "code",
   "execution_count": 4,
   "metadata": {},
   "outputs": [
    {
     "name": "stdout",
     "output_type": "stream",
     "text": [
      "True\n"
     ]
    }
   ],
   "source": [
    "P_A = 0.5  # Probability of event A\n",
    "P_B = 0.4  # Probability of event B\n",
    "P_A_given_B = 0.5  # Given B, probability of A\n",
    "independent = P_A == P_A_given_B\n",
    "print(independent)  # False means they are dependent"
   ]
  },
  {
   "cell_type": "markdown",
   "metadata": {},
   "source": [
    "## Conditional Probability Formula\n",
    "\n",
    "The conditional probability of A given B is:\n",
    "$$\n",
    "P(A | B) = \\frac{P(A \\cap B)}{P(B)}\n",
    "$$"
   ]
  },
  {
   "cell_type": "code",
   "execution_count": 5,
   "metadata": {},
   "outputs": [
    {
     "name": "stdout",
     "output_type": "stream",
     "text": [
      "0.5\n"
     ]
    }
   ],
   "source": [
    "P_A_inter_B = 0.2\n",
    "P_B = 0.4\n",
    "P_A_given_B = P_A_inter_B / P_B\n",
    "print(P_A_given_B)"
   ]
  },
  {
   "cell_type": "markdown",
   "metadata": {},
   "source": [
    "## Law of total Probability\n",
    "\n",
    "The probability of an event A is the sum of its probability across all possible conditions:\n",
    "$$\n",
    "P(A) = \\sum P(A | B_i) P(B_i)\n",
    "$$"
   ]
  },
  {
   "cell_type": "code",
   "execution_count": 6,
   "metadata": {},
   "outputs": [
    {
     "name": "stdout",
     "output_type": "stream",
     "text": [
      "0.29\n"
     ]
    }
   ],
   "source": [
    "P_B1 = 0.3\n",
    "P_B2 = 0.7\n",
    "P_A_given_B1 = 0.5\n",
    "P_A_given_B2 = 0.2\n",
    "P_A = P_A_given_B1 * P_B1 + P_A_given_B2 * P_B2\n",
    "print(P_A)"
   ]
  },
  {
   "cell_type": "markdown",
   "metadata": {},
   "source": [
    "The addituve rule of probability states that:\n",
    "\n",
    "$$\n",
    "P(A \\cup B) = P(A) + P(B) - P(A \\cap B)\n",
    "$$\n",
    "\n",
    "and the multiplication law states:\n",
    "\n",
    "$$\n",
    "P(A \\cap B) = P(A|B)*P(B)\n",
    "$$"
   ]
  },
  {
   "cell_type": "code",
   "execution_count": 7,
   "metadata": {},
   "outputs": [
    {
     "name": "stdout",
     "output_type": "stream",
     "text": [
      "0.7\n"
     ]
    }
   ],
   "source": [
    "P_A = 0.5\n",
    "P_B = 0.4\n",
    "P_A_union_B = P_A + P_B - P_A_inter_B\n",
    "print(P_A_union_B)"
   ]
  },
  {
   "cell_type": "markdown",
   "metadata": {},
   "source": [
    "## Bayes' Law\n",
    "\n",
    "The theorem states that the probability of an event A given the event B is the same as the multiplication of the probability of B given A with the probability of A, divided by the probability of B:\n",
    "\n",
    "$$\n",
    "P(A | B) = \\frac{P(B | A) P(A)}{P(B)}\n",
    "$$"
   ]
  },
  {
   "cell_type": "code",
   "execution_count": 8,
   "metadata": {},
   "outputs": [
    {
     "name": "stdout",
     "output_type": "stream",
     "text": [
      "0.44999999999999996\n"
     ]
    }
   ],
   "source": [
    "P_B_given_A = 0.6\n",
    "P_A = 0.3\n",
    "P_B = 0.4\n",
    "P_A_given_B = (P_B_given_A * P_A) / P_B\n",
    "print(P_A_given_B)"
   ]
  },
  {
   "cell_type": "markdown",
   "metadata": {},
   "source": [
    "### Practical example\n",
    "\n",
    "Let's assume a medical test for a disease has:\n",
    "- Sensitivity (True Positive Rate) = 99%\n",
    "- Specificity (True Negative Rate) = 95%\n",
    "- Prevalence (Prior Probability) = 1%\n",
    "\n",
    "Using Bayes' theorem, we can compute the probability of actually having the disease given a positive test result:"
   ]
  },
  {
   "cell_type": "code",
   "execution_count": 9,
   "metadata": {},
   "outputs": [
    {
     "name": "stdout",
     "output_type": "stream",
     "text": [
      "0.16666666666666655\n"
     ]
    }
   ],
   "source": [
    "# Given values\n",
    "P_D = 0.01  # Prior probability of disease\n",
    "P_Pos_given_D = 0.99  # Sensitivity\n",
    "P_Neg_given_noD = 0.95  # Specificity\n",
    "\n",
    "# Compute P(Pos)\n",
    "P_noD = 1 - P_D\n",
    "P_Pos_given_noD = 1 - P_Neg_given_noD\n",
    "P_Pos = P_Pos_given_D * P_D + P_Pos_given_noD * P_noD\n",
    "\n",
    "# Compute P(D|Pos)\n",
    "P_D_given_Pos = (P_Pos_given_D * P_D) / P_Pos\n",
    "print(P_D_given_Pos)  # Probability of having the disease given a positive test result"
   ]
  }
 ],
 "metadata": {
  "kernelspec": {
   "display_name": "comb_ml",
   "language": "python",
   "name": "python3"
  },
  "language_info": {
   "codemirror_mode": {
    "name": "ipython",
    "version": 3
   },
   "file_extension": ".py",
   "mimetype": "text/x-python",
   "name": "python",
   "nbconvert_exporter": "python",
   "pygments_lexer": "ipython3",
   "version": "3.11.11"
  }
 },
 "nbformat": 4,
 "nbformat_minor": 2
}
