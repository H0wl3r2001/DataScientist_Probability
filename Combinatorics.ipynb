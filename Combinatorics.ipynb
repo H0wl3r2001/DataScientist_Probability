{
 "cells": [
  {
   "cell_type": "markdown",
   "metadata": {},
   "source": [
    "# Combinatorics\n",
    "\n",
    "Combinatorics is a branch of mathematics concerned with counting, arranging, and selecting objects. It is widely used in probability, statistics, and computer science. Therefore, it is important in the field of Data Science. The key areas include permutations, variations, and combinations. This notebook covers fundamental concepts in combinatorics, with Python implementations serving as examples."
   ]
  },
  {
   "cell_type": "markdown",
   "metadata": {},
   "source": [
    "## Index\n",
    "\n",
    "1. [**Permutations**](#Perm)\n",
    "2. [**Factorials**](#Fact)\n",
    "3. [**Variations**](#Var)\n",
    "4. [**Combinations**](#Comb)"
   ]
  },
  {
   "cell_type": "markdown",
   "metadata": {},
   "source": [
    "## 1. Permutations <a class=\"anchor\" id=\"Perm\"></a>  \n",
    "\n",
    "A permutation is an arrangement of objects in a specific order. The number of ways to arrange `n` distinct objects is given by the **factorial function**:\n",
    "\n",
    "$$\n",
    "P(n) = n!\n",
    "$$\n",
    "\n",
    "where `n!` (n factorial) is the product of all positive integers up to `n`."
   ]
  },
  {
   "cell_type": "code",
   "execution_count": 6,
   "metadata": {},
   "outputs": [],
   "source": [
    "import math"
   ]
  },
  {
   "cell_type": "code",
   "execution_count": 7,
   "metadata": {},
   "outputs": [
    {
     "name": "stdout",
     "output_type": "stream",
     "text": [
      "120\n"
     ]
    }
   ],
   "source": [
    "def permutations(n):\n",
    "    return math.factorial(n)\n",
    "\n",
    "print(permutations(5))"
   ]
  },
  {
   "cell_type": "markdown",
   "metadata": {},
   "source": [
    "## 2. Factorials <a class=\"anchor\" id=\"Fact\"></a>\n",
    "\n",
    "A factorial is a fundamental concept in combinatorics, representing the product of all positive integers from `1` to `n`.\n",
    "\n",
    "**Properties:**\n",
    "- `0! = 1`\n",
    "- `n! = n × (n-1)!`"
   ]
  },
  {
   "cell_type": "code",
   "execution_count": 8,
   "metadata": {},
   "outputs": [
    {
     "name": "stdout",
     "output_type": "stream",
     "text": [
      "120\n"
     ]
    }
   ],
   "source": [
    "def factorial(n):\n",
    "    return math.factorial(n)\n",
    "\n",
    "print(factorial(5))"
   ]
  },
  {
   "cell_type": "markdown",
   "metadata": {},
   "source": [
    "## 3. Variations <a class=\"anchor\" id=\"Var\"></a>\n",
    "\n",
    "A variation with repetition allows elements to be repeated in different arrangements. It is useful in cases where order matters and repetitions are allowed.\n",
    "\n",
    "$$\n",
    "V(n, p) = n^p\n",
    "$$\n",
    "\n",
    "where `n` is the number of elements available and `p` is the number of elements selected."
   ]
  },
  {
   "cell_type": "code",
   "execution_count": 9,
   "metadata": {},
   "outputs": [
    {
     "name": "stdout",
     "output_type": "stream",
     "text": [
      "16\n"
     ]
    }
   ],
   "source": [
    "def variations_with_repetition(n, p):\n",
    "    return n ** p\n",
    "\n",
    "print(variations_with_repetition(4, 2))"
   ]
  },
  {
   "cell_type": "markdown",
   "metadata": {},
   "source": [
    "A variation without repetition does not allow elements to repeat, meaning each selected element is unique.\n",
    "\n",
    "$$\n",
    "V(n, p) = \\frac{n!}{(n - p)!}\n",
    "$$\n",
    "\n",
    "where `n!` represents the total permutations and `(n - p)!` removes duplicate selections."
   ]
  },
  {
   "cell_type": "code",
   "execution_count": 10,
   "metadata": {},
   "outputs": [
    {
     "name": "stdout",
     "output_type": "stream",
     "text": [
      "12\n"
     ]
    }
   ],
   "source": [
    "def variations_without_repetition(n, p):\n",
    "    return math.factorial(n) // math.factorial(n - p)\n",
    "\n",
    "print(variations_without_repetition(4, 2))"
   ]
  },
  {
   "cell_type": "markdown",
   "metadata": {},
   "source": [
    "## 4. Combinations <a class=\"anchor\" id=\"Comb\"></a>\n",
    "\n",
    "A combination is a selection of objects where order does not matter. The math notation is the following:\n",
    "\n",
    "$$\n",
    "C(n, p) = \\frac{n!}{p!(n - p)!}\n",
    "$$\n",
    "\n",
    "where `p!` accounts for reordering within each selection."
   ]
  },
  {
   "cell_type": "code",
   "execution_count": 11,
   "metadata": {},
   "outputs": [
    {
     "name": "stdout",
     "output_type": "stream",
     "text": [
      "10\n"
     ]
    }
   ],
   "source": [
    "def combinations_count(n, p):\n",
    "    return math.factorial(n) // (math.factorial(p) * math.factorial(n - p))\n",
    "\n",
    "print(combinations_count(5, 3))"
   ]
  },
  {
   "cell_type": "markdown",
   "metadata": {},
   "source": [
    "Combinations have the symmetry property (see below). It states that selecting `p` elements out of `n` is equivalent to omitting `n-p` elements.\n",
    "\n",
    "$$\n",
    "C(n, p) = C(n, n - p)\n",
    "$$"
   ]
  },
  {
   "cell_type": "code",
   "execution_count": 12,
   "metadata": {},
   "outputs": [
    {
     "name": "stdout",
     "output_type": "stream",
     "text": [
      "True\n"
     ]
    }
   ],
   "source": [
    "print(combinations_count(5, 2) == combinations_count(5, 3))"
   ]
  },
  {
   "cell_type": "markdown",
   "metadata": {},
   "source": [
    "When elements come from separate categories, the total combinations are the product of the individual choices."
   ]
  },
  {
   "cell_type": "code",
   "execution_count": 13,
   "metadata": {},
   "outputs": [
    {
     "name": "stdout",
     "output_type": "stream",
     "text": [
      "60\n"
     ]
    }
   ],
   "source": [
    "def combinations_separate_spaces(*sizes):\n",
    "    result = 1\n",
    "    for size in sizes:\n",
    "        result *= size\n",
    "    return result\n",
    "\n",
    "print(combinations_separate_spaces(5, 4, 3))"
   ]
  },
  {
   "cell_type": "markdown",
   "metadata": {},
   "source": [
    "## Real-life example: Lottery\n",
    "\n",
    "A standard lottery involves selecting `p` numbers from a larger set `n`, where order does not matter."
   ]
  },
  {
   "cell_type": "code",
   "execution_count": 14,
   "metadata": {},
   "outputs": [
    {
     "name": "stdout",
     "output_type": "stream",
     "text": [
      "13983816\n"
     ]
    }
   ],
   "source": [
    "def lottery_odds(n, p):\n",
    "    return math.comb(n, p)\n",
    "\n",
    "print(lottery_odds(49, 6))"
   ]
  },
  {
   "cell_type": "markdown",
   "metadata": {},
   "source": [
    "## Resources\n",
    "To further explore combinatorics, check out the following free-access resources:\n",
    "- [Khan Academy - Combinations and Permutations](https://www.khanacademy.org/math/statistics-probability/counting-permutations-and-combinations)\n",
    "- **Youtube tutorials**"
   ]
  }
 ],
 "metadata": {
  "kernelspec": {
   "display_name": "comb_ml",
   "language": "python",
   "name": "python3"
  },
  "language_info": {
   "codemirror_mode": {
    "name": "ipython",
    "version": 3
   },
   "file_extension": ".py",
   "mimetype": "text/x-python",
   "name": "python",
   "nbconvert_exporter": "python",
   "pygments_lexer": "ipython3",
   "version": "3.11.11"
  }
 },
 "nbformat": 4,
 "nbformat_minor": 2
}
